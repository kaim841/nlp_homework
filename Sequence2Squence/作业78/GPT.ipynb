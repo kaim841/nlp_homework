{
 "cells": [
  {
   "cell_type": "code",
   "execution_count": 8,
   "id": "2e76bf52-35ba-42dc-bcce-997e36040097",
   "metadata": {},
   "outputs": [
    {
     "name": "stdout",
     "output_type": "stream",
     "text": [
      "文本续写结果：\n",
      "当 人 类 第 一 次 踏 上 火 星 时 ， 人 们 想 到 的 是 什 么 ？ 火 箭 炮 的 出 现 ， 不 明 白 麽 会 有 如 此 巨 大 的 吸 引 力 ？ 看 到 一 个 问 题 ， 关 于 第 二 次 世 界 大 战 的 问 答 ， 有 人 回 答 说 是 希 望 可 以 在 第 三 次 大 地 震 之 前 ， 在 火 炮 上 放 上 一 架 飞 船 ， 使 用 火 力 让 它 飞 行 ， 以 此 来 增 强 对 外 界 的 威 慑 力 。 这 其 实\n"
     ]
    }
   ],
   "source": [
    "from transformers import BertTokenizer, GPT2LMHeadModel\n",
    "import torch\n",
    "\n",
    "# 加载模型和分词器\n",
    "model_name = \"uer/gpt2-chinese-cluecorpussmall\"\n",
    "tokenizer = BertTokenizer.from_pretrained(model_name)\n",
    "model = GPT2LMHeadModel.from_pretrained(model_name)\n",
    "\n",
    "\n",
    "device = torch.device(\"cuda\" if torch.cuda.is_available() else \"cpu\")\n",
    "model.to(device)\n",
    "model.eval()\n",
    "\n",
    "# 句子开头\n",
    "prompt = \"当人类第一次踏上火星\"\n",
    "\n",
    "input_ids = tokenizer.encode(prompt, return_tensors=\"pt\").to(device)\n",
    "attention_mask = torch.ones_like(input_ids).to(device)  # 注意力掩码\n",
    "\n",
    "\n",
    "generation_config = {\n",
    "    \"attention_mask\": attention_mask,\n",
    "    \"max_length\": 120,\n",
    "    \"num_return_sequences\": 1,\n",
    "    \"do_sample\": True,\n",
    "    \"top_k\": 50,\n",
    "    \"top_p\": 0.95,\n",
    "    \"temperature\": 0.8,\n",
    "    \"pad_token_id\": tokenizer.eos_token_id,\n",
    "    \"eos_token_id\": tokenizer.eos_token_id,\n",
    "    \"no_repeat_ngram_size\": 2,\n",
    "}\n",
    "\n",
    "# 进行文本生成\n",
    "with torch.no_grad():\n",
    "    output = model.generate(input_ids, **generation_config)\n",
    "\n",
    "\n",
    "generated_text = tokenizer.decode(output[0], skip_special_tokens=True)\n",
    "\n",
    "# 输出续写结果\n",
    "print(\"文本续写结果：\")\n",
    "print(generated_text)"
   ]
  },
  {
   "cell_type": "code",
   "execution_count": null,
   "id": "2a61460d-090f-4122-af5d-71d807f5ea53",
   "metadata": {},
   "outputs": [],
   "source": []
  }
 ],
 "metadata": {
  "kernelspec": {
   "display_name": "Python 3 (ipykernel)",
   "language": "python",
   "name": "python3"
  },
  "language_info": {
   "codemirror_mode": {
    "name": "ipython",
    "version": 3
   },
   "file_extension": ".py",
   "mimetype": "text/x-python",
   "name": "python",
   "nbconvert_exporter": "python",
   "pygments_lexer": "ipython3",
   "version": "3.9.21"
  }
 },
 "nbformat": 4,
 "nbformat_minor": 5
}
